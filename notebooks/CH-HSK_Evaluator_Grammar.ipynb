{
 "cells": [
  {
   "cell_type": "markdown",
   "id": "46750472",
   "metadata": {},
   "source": [
    "# Grammar level evaluation\n"
   ]
  },
  {
   "cell_type": "markdown",
   "id": "cc0586a8",
   "metadata": {},
   "source": [
    "## Idea and Plan"
   ]
  },
  {
   "cell_type": "markdown",
   "id": "875805c6",
   "metadata": {},
   "source": [
    "Goal is to make function that helps to evaluate grammar level of a Chinese text.\n",
    "- First step: text has to be split up into sentences to have a solid unit to work for later iterations\n",
    "- Second step: craft grammar database \n",
    "- Third Step: iterate \n",
    "- output: How hard is a text in terms of grammar? Optimal: 3 out of HSK 3, 4 out of HSK 6 etc. "
   ]
  },
  {
   "cell_type": "markdown",
   "id": "46f77697",
   "metadata": {},
   "source": [
    "## Text Preprocessing -> Text to sentences "
   ]
  },
  {
   "cell_type": "markdown",
   "id": "29e80454",
   "metadata": {},
   "source": [
    "It is possible to make sentences out of a text, but some parts of direct speech has to be computed"
   ]
  },
  {
   "cell_type": "code",
   "execution_count": 2,
   "id": "bd3eb366",
   "metadata": {},
   "outputs": [],
   "source": [
    "writinghsk6001='''有位医生年纪大了，但是他的医术非常高明，许多年轻人都想拜他为师。老医生最后选了其中一位年轻人，带着他给病人看病，传授他治病经验。没过几年，年轻人就成了老医生的得力助手。\n",
    "因为老医生的名气越来越大，从四面八方来看病的人与日俱增。为了不让来看病的人等得太久，老医生决定让年轻医生也独立给病人看病，并给了他一个独立的房间。两人约定：病情比较轻微的患者，由年轻医生诊断；病情比较严重的患者，由老医生出马。\n",
    "这样实行了一段时间之后，找年轻医生看病的人越来越多。起初，老医生不以为然，反而很高兴：“小病都治好了，当然不会拖延成为大病，病人减少了，我也乐得轻松。”\n",
    "直到有一天，老医生发现，有几位病人的病情很严重，但是仍然坚持选择年轻医生，对此，他百思不得其解。\n",
    "老医生和年轻医生的感情很好，互相信赖，所以他不相信年轻人会从中搞鬼，故意抢病人。“但这是为什么呢？”老医生问他的妻子，“为什么大家不来找我看病？难道他们不知道我的医术高明吗？我刚刚获奖的消息就登在报纸的头版上，很多人都看得到啊！”\n",
    "正好老医生的妻子这几天感冒了，为解开丈夫心中的疑团，老医生的妻子就以普通病人的身份去丈夫的医院看病，顺便看看问题出在哪里。\n",
    "医院里负责接待的护士很有礼貌，对两位医生的介绍也都非常客观，并没有刻意暗示病人要找哪一位医生看病。\n",
    "来医院看病的病人非常多，虽然老医生和年轻医生已经分开看病，但病人等候的时间仍然比较长。在医院等候区等候的时候，病人们就聊起天来，交换彼此的看病经验。\n",
    "老医生的妻子也坐在等候区，仔细听周围病人谈论对医生的看法。大家都说，年轻医生看病时非常仔细，跟病人的沟通很多，而且很亲切、很客气，经常给病人加油打气。“不用担心啦，回去多喝开水，睡眠要充足，很快就会好起来的。”类似这样的鼓励，让病人感到很轻松、愉快。而老医生的情况正好相反，他看病的速度很快，往往病人不用开口多说，他就知道问题在哪里，跟病人之间缺少必要的沟通；同时他的表情很冷淡，仿佛对病人的痛苦毫不在意，缺少同情心。因此，病人们总结：虽然年轻医生的经验不够丰富，但是他足够耐心、细致，并且关心病人，找年轻医生看病，他们心里会得到很大的安慰和鼓励；而老医生虽然经验丰富，但是他看病时漫不经心、与己无关的态度，让病人本来就因身体疼痛而糟糕的心情雪上加霜。所以，他们最终都选择了年轻医生。\n",
    "当妻子回到家告诉老医生这些见闻时，他惊讶地张大了嘴巴，然后陷入了沉思中„„\n",
    "'''"
   ]
  },
  {
   "cell_type": "code",
   "execution_count": 3,
   "id": "f271fb61",
   "metadata": {},
   "outputs": [
    {
     "data": {
      "text/plain": [
       "['有位医生年纪大了，但是他的医术非常高明，许多年轻人都想拜他为师。',\n",
       " '老医生最后选了其中一位年轻人，带着他给病人看病，传授他治病经验。',\n",
       " '没过几年，年轻人就成了老医生的得力助手。',\n",
       " '因为老医生的名气越来越大，从四面八方来看病的人与日俱增。',\n",
       " '为了不让来看病的人等得太久，老医生决定让年轻医生也独立给病人看病，并给了他一个独立的房间。',\n",
       " '两人约定：病情比较轻微的患者，由年轻医生诊断；病情比较严重的患者，由老医生出马。',\n",
       " '这样实行了一段时间之后，找年轻医生看病的人越来越多。',\n",
       " '起初，老医生不以为然，反而很高兴：小病都治好了，当然不会拖延成为大病，病人减少了，我也乐得轻松。',\n",
       " '直到有一天，老医生发现，有几位病人的病情很严重，但是仍然坚持选择年轻医生，对此，他百思不得其解。',\n",
       " '老医生和年轻医生的感情很好，互相信赖，所以他不相信年轻人会从中搞鬼，故意抢病人。',\n",
       " '但这是为什么呢？',\n",
       " '老医生问他的妻子，为什么大家不来找我看病？',\n",
       " '难道他们不知道我的医术高明吗？',\n",
       " '我刚刚获奖的消息就登在报纸的头版上，很多人都看得到啊！',\n",
       " '正好老医生的妻子这几天感冒了，为解开丈夫心中的疑团，老医生的妻子就以普通病人的身份去丈夫的医院看病，顺便看看问题出在哪里。',\n",
       " '医院里负责接待的护士很有礼貌，对两位医生的介绍也都非常客观，并没有刻意暗示病人要找哪一位医生看病。',\n",
       " '来医院看病的病人非常多，虽然老医生和年轻医生已经分开看病，但病人等候的时间仍然比较长。',\n",
       " '在医院等候区等候的时候，病人们就聊起天来，交换彼此的看病经验。',\n",
       " '老医生的妻子也坐在等候区，仔细听周围病人谈论对医生的看法。',\n",
       " '大家都说，年轻医生看病时非常仔细，跟病人的沟通很多，而且很亲切、很客气，经常给病人加油打气。',\n",
       " '不用担心啦，回去多喝开水，睡眠要充足，很快就会好起来的。',\n",
       " '类似这样的鼓励，让病人感到很轻松、愉快。',\n",
       " '而老医生的情况正好相反，他看病的速度很快，往往病人不用开口多说，他就知道问题在哪里，跟病人之间缺少必要的沟通；同时他的表情很冷淡，仿佛对病人的痛苦毫不在意，缺少同情心。',\n",
       " '因此，病人们总结：虽然年轻医生的经验不够丰富，但是他足够耐心、细致，并且关心病人，找年轻医生看病，他们心里会得到很大的安慰和鼓励；而老医生虽然经验丰富，但是他看病时漫不经心、与己无关的态度，让病人本来就因身体疼痛而糟糕的心情雪上加霜。',\n",
       " '所以，他们最终都选择了年轻医生。']"
      ]
     },
     "execution_count": 3,
     "metadata": {},
     "output_type": "execute_result"
    }
   ],
   "source": [
    "sentence_string=\"\"\n",
    "sentence_list=[]\n",
    "for sign in writinghsk6001:\n",
    "    #important! ignores direct speech!\n",
    "    if sign ==\"\\n\" or sign ==\"“\" or sign ==\"”\":\n",
    "        pass\n",
    "    else: \n",
    "        sentence_string=sentence_string + sign\n",
    "        if sign == \"。\":\n",
    "            sentence_list.append(sentence_string)\n",
    "            sentence_string=\"\"\n",
    "        if sign == \"？\":\n",
    "            sentence_list.append(sentence_string)\n",
    "            sentence_string=\"\"\n",
    "        if sign == \"！\":\n",
    "            sentence_list.append(sentence_string)\n",
    "            sentence_string=\"\" \n",
    "    signold=sign\n",
    "sentence_list"
   ]
  },
  {
   "cell_type": "markdown",
   "id": "db33e512",
   "metadata": {},
   "source": [
    "## grammar - dataset "
   ]
  },
  {
   "cell_type": "markdown",
   "id": "73c2b302",
   "metadata": {},
   "source": [
    "Loading the Dataset for chinese HSK grammar- from https://www.zerotohero.ca/en/zh/grammar "
   ]
  },
  {
   "cell_type": "code",
   "execution_count": 39,
   "id": "6e3beb70",
   "metadata": {},
   "outputs": [],
   "source": [
    "### \n",
    "import pandas as pd\n",
    "df = pd.read_csv('../raw_data/zh-grammar.csv.txt') "
   ]
  },
  {
   "cell_type": "raw",
   "id": "e7426009",
   "metadata": {},
   "source": [
    "Here a \"self-check\" is conducted. Do the given grammar-\"structure\" work on the given example using \"in\"?"
   ]
  },
  {
   "cell_type": "code",
   "execution_count": 41,
   "id": "ade305a6",
   "metadata": {},
   "outputs": [
    {
     "name": "stdout",
     "output_type": "stream",
     "text": [
      "402 614\n"
     ]
    }
   ],
   "source": [
    "worklist=[]\n",
    "preplist=[]\n",
    "for index, row in df.iterrows():\n",
    "    if str(row[\"structure\"]) in str(row[\"example\"]):\n",
    "        worklist.append(str(row[\"structure\"]))\n",
    "        #print(index, \"Ja:\", row[\"structure\"], \"--of--\", row[\"example\"])\n",
    "    else:\n",
    "        preplist.append(str(row[\"structure\"]))\n",
    "        #print(index, \"No:\", row[\"structure\"], \"--of--\", row[\"example\"])\n",
    "print(len(worklist), len(preplist))"
   ]
  },
  {
   "cell_type": "markdown",
   "id": "06aa743c",
   "metadata": {},
   "source": [
    "So far 402 grammar units are likely to be working on itself, the other 614 have to be (manually) further pro"
   ]
  },
  {
   "cell_type": "markdown",
   "id": "90f1e4fb",
   "metadata": {},
   "source": [
    "## Further steps: "
   ]
  },
  {
   "cell_type": "markdown",
   "id": "929b33c8",
   "metadata": {},
   "source": [
    "The remaining 614 grammar units have to be computed (individually). It make sense to use jieba here, as it is possible to get the part of speech for each word. This then allows to be more specific, especially for example how 得 is used a particular sentence."
   ]
  },
  {
   "cell_type": "markdown",
   "id": "36f47553",
   "metadata": {},
   "source": [
    "# Process grammar and parts of speech "
   ]
  },
  {
   "cell_type": "code",
   "execution_count": null,
   "id": "dd44d3d5",
   "metadata": {},
   "outputs": [],
   "source": []
  }
 ],
 "metadata": {
  "kernelspec": {
   "display_name": "Python 3 (ipykernel)",
   "language": "python",
   "name": "python3"
  },
  "language_info": {
   "codemirror_mode": {
    "name": "ipython",
    "version": 3
   },
   "file_extension": ".py",
   "mimetype": "text/x-python",
   "name": "python",
   "nbconvert_exporter": "python",
   "pygments_lexer": "ipython3",
   "version": "3.8.6"
  },
  "toc": {
   "base_numbering": 1,
   "nav_menu": {},
   "number_sections": true,
   "sideBar": true,
   "skip_h1_title": false,
   "title_cell": "Table of Contents",
   "title_sidebar": "Contents",
   "toc_cell": false,
   "toc_position": {},
   "toc_section_display": true,
   "toc_window_display": false
  }
 },
 "nbformat": 4,
 "nbformat_minor": 5
}
